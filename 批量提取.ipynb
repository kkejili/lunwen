{
 "cells": [
  {
   "cell_type": "code",
   "execution_count": 2,
   "id": "e937e242",
   "metadata": {},
   "outputs": [
    {
     "name": "stdout",
     "output_type": "stream",
     "text": [
      "['1.1+.csv', '1.1-.csv', '1.2+.csv', '1.2-.csv', '2.1+.csv', '2.1-.csv', '2.2+.csv', '2.2-.csv', '3.1+.csv', '3.1-.csv', '5.1+.csv', '5.1-.csv', '6.1+.csv', '6.1-.csv', '6.2+.csv', '6.2-.csv', '7.1+.csv', '7.1-.csv', '7.2-.csv', '8.1+.csv', '8.1-.csv', '8.2+.csv', '8.2-.csv', '9.1+.csv', '9.1-.csv', '10.1+.csv', '10.2+.csv', '10.2-.csv', '11.1+.csv', '11.1-.csv', '11.2+.csv', '11.2-.csv', '12.2-.csv', '13.1-.csv', '14.1+.csv', '14.1-.csv', '14.2+.csv', '14.2-.csv', '15.2+.csv', '15.2-.csv', '16.1+.csv', '17.1+.csv', '17.1-.csv', '17.2+.csv', '17.2-.csv', '18.1+.csv', '18.1-.csv', '18.2+.csv', '18.2-.csv', '19.1+.csv', '19.1-.csv', '20.1+.csv', '20.2+.csv', '20.2-.csv', '21.1+.csv', '21.1-.csv', '21.2.+.csv', '21.2-.csv', '22.1+.csv', '22.1-.csv', '22.2-.csv', '23.1+.csv', '23.2+.csv', '23.2-.csv', '24.1+.csv', '24.1-.csv', '24.2+.csv', '25.2+.csv', '25.2-.csv', '26.1+.csv', '26.1-.csv', '26.2+.csv', '26.2+(正).csv', '26.2-.csv', '27.1+.csv', '27.1+（正）.csv', '27.1-.csv', '27.2+.csv', '27.2+（正）.csv', '27.2-.csv', '28.1-.csv', '28.2+.csv', '29.1+.csv', '29.2+.csv', '29.2-.csv', '30.2-.csv', '32.1+.csv', '32.2+.csv', '32.2-.csv', '33.1+.csv', '33.1-.csv', '34.1+.csv', '35.1+.csv', '35.1-.csv', '36.1+.csv', '36.1-.csv', '37.1+.csv', '39.1+.csv', '39.2+.csv', '39.2-.csv', '41.1+.csv', '41.1-.csv', '41.2+.csv', '41.2-.csv', '42.1-.csv', '42.2+.csv', '42.2-.csv', '43.1+.csv', '43.2-.csv', '44.2+.csv', '45.1+.csv', '45.1-.csv', '46.2+.csv', '46.2-.csv', '47.1+.csv', '47.1-.csv', '47.2+.csv', '48.1+.csv', '48.1-.csv', '48.2+.csv', '48.2-.csv', '50.2+.csv', '50.2-.csv', '51.2+.csv', '51.2-.csv', '52.1+.csv', '52.1-.csv', '52.2+.csv', '53.1+.csv', '53.1-.csv', '54.1+.csv', '54.1-.csv', '54.2+.csv', '55.2+.csv', '55.2-.csv', '56.1+.csv', '56.1-.csv', '56.2+.csv', '56.2-.csv', '58.1+.csv', '58.2+.csv', '58.2-.csv', '59.1+.csv', '59.1-.csv', '59.2+.csv', '59.2-.csv', '60.1+.csv', '60.1-.csv', '60.2+.csv', '60.2-.csv']\n"
     ]
    }
   ],
   "source": [
    "import pandas as pd\n",
    "import numpy as np\n",
    "import csv\n",
    "import os\n",
    "import pandas as pd\n",
    "import numpy as np\n",
    "import os.path\n",
    "from sklearn import linear_model # 导入线性模型包\n",
    "import pandas as pd\n",
    "import numpy as np\n",
    "import csv\n",
    "import matplotlib.pyplot as plt\n",
    "from sklearn import neighbors # 导入KNN包\n",
    "import sys\n",
    "import natsort\n",
    "os.chdir(r\"D:\\dianchi\\电池焊缝数据220组\\无缺陷\") \n",
    "ppt_filename1 = natsort.natsorted(os.listdir(\"./\"),alg = natsort.ns.PATH)\n",
    "\n",
    "zongyan = []\n",
    "labelyan = []\n",
    "pic_files = [fn for fn in ppt_filename1 if fn.endswith('.csv')]\n",
    "print(pic_files)\n",
    "first = []\n",
    "wu = []\n",
    "jishu = 0\n",
    "for fn in pic_files:\n",
    "    jishu +=1\n",
    "    df=pd.read_csv(fn,sep=\"\\t\",skiprows=[0,1,2,3,4,5,6,7,8,9,10,11,12,13,14,15,16,17,18,19,20],usecols=[\"Untitled\", \"Untitled 1\"])\n",
    "    df1 = df[\"Untitled\"]\n",
    "    \n",
    "    jieg = pd.DataFrame(df1)\n",
    "    jieg.to_csv(r\"D:\\dianchi\\pilian\\wu\\{}.csv\".format(fn),header = 0,index=0)"
   ]
  },
  {
   "cell_type": "code",
   "execution_count": null,
   "id": "25b0854c",
   "metadata": {},
   "outputs": [],
   "source": [
    "import pandas as pd\n",
    "import numpy as np\n",
    "import csv\n",
    "import os\n",
    "import pandas as pd\n",
    "import numpy as np\n",
    "import os.path\n",
    "from sklearn import linear_model # 导入线性模型包\n",
    "import pandas as pd\n",
    "import numpy as np\n",
    "import csv\n",
    "import matplotlib.pyplot as plt\n",
    "from sklearn import neighbors # 导入KNN包\n",
    "import sys\n",
    "import natsort\n",
    "os.chdir(r\"D:\\dianchi\\电池焊缝数据220组\\有缺陷\") \n",
    "ppt_filename1 = natsort.natsorted(os.listdir(\"./\"),alg = natsort.ns.PATH)\n",
    "\n",
    "zongyan = []\n",
    "labelyan = []\n",
    "pic_files = [fn for fn in ppt_filename1 if fn.endswith('.csv')]\n",
    "for fn in pic_files:\n",
    "    pd.concat([df1, s2]"
   ]
  },
  {
   "cell_type": "code",
   "execution_count": 17,
   "id": "aef14cd1",
   "metadata": {},
   "outputs": [
    {
     "name": "stdout",
     "output_type": "stream",
     "text": [
      "['40.1+.csv']\n"
     ]
    }
   ],
   "source": [
    "import pandas as pd\n",
    "import numpy as np\n",
    "import csv\n",
    "import os\n",
    "import pandas as pd\n",
    "import numpy as np\n",
    "import os.path\n",
    "from sklearn import linear_model # 导入线性模型包\n",
    "import pandas as pd\n",
    "import numpy as np\n",
    "import csv\n",
    "import matplotlib.pyplot as plt\n",
    "from sklearn import neighbors # 导入KNN包\n",
    "import sys\n",
    "import natsort\n",
    "os.chdir(r\"D:\\dianchi\\电池焊缝数据220组\\40\") \n",
    "ppt_filename1 = natsort.natsorted(os.listdir(\"./\"),alg = natsort.ns.PATH)\n",
    "\n",
    "zongyan = []\n",
    "labelyan = []\n",
    "pic_files = [fn for fn in ppt_filename1 if fn.endswith('.csv')]\n",
    "print(pic_files)\n",
    "first = []\n",
    "wu = []\n",
    "jishu = 0\n",
    "\n",
    "df=pd.read_csv(pic_files[0],sep=\"\\t\",skiprows=[0,1,2,3,4,5,6,7,8,9,10,11,12,13,14,15,16,17,18,19,20],usecols=[\"Untitled\", \"Untitled 1\"])\n",
    "df1 = df[\"Untitled\"]\n",
    "\n",
    "jieg = pd.Series(df1)\n",
    "jieg.to_csv(r\"D:\\dianchi\\piliang\\40.1+.csv\",header = 0,index=0)"
   ]
  },
  {
   "cell_type": "code",
   "execution_count": 6,
   "id": "7797326f",
   "metadata": {},
   "outputs": [
    {
     "name": "stdout",
     "output_type": "stream",
     "text": [
      "['1.1+.csv', '1.1-.csv', '1.2+.csv', '1.2-.csv', '2.1+.csv', '2.1-.csv', '2.2+.csv', '2.2-.csv', '3.1+.csv', '3.1-.csv', '5.1+.csv', '5.1-.csv', '6.1+.csv', '6.1-.csv', '6.2+.csv', '6.2-.csv', '7.1+.csv', '7.1-.csv', '7.2-.csv', '8.1+.csv', '8.1-.csv', '8.2+.csv', '8.2-.csv', '9.1+.csv', '9.1-.csv', '10.1+.csv', '10.2+.csv', '10.2-.csv', '11.1+.csv', '11.1-.csv', '11.2+.csv', '11.2-.csv', '12.2-.csv', '13.1-.csv', '14.1+.csv', '14.1-.csv', '14.2+.csv', '14.2-.csv', '15.2+.csv', '15.2-.csv', '16.1+.csv', '17.1+.csv', '17.1-.csv', '17.2+.csv', '17.2-.csv', '18.1+.csv', '18.1-.csv', '18.2+.csv', '18.2-.csv', '19.1+.csv', '19.1-.csv', '20.1+.csv', '20.2+.csv', '20.2-.csv', '21.1+.csv', '21.1-.csv', '21.2.+.csv', '21.2-.csv', '22.1+.csv', '22.1-.csv', '22.2-.csv', '23.1+.csv', '23.2+.csv', '23.2-.csv', '24.1+.csv', '24.1-.csv', '24.2+.csv', '25.2+.csv', '25.2-.csv', '26.1+.csv', '26.1-.csv', '26.2+.csv', '26.2+(正).csv', '26.2-.csv', '27.1+.csv', '27.1+（正）.csv', '27.1-.csv', '27.2+.csv', '27.2+（正）.csv', '27.2-.csv', '28.1-.csv', '28.2+.csv', '29.1+.csv', '29.2+.csv', '29.2-.csv', '30.2-.csv', '32.1+.csv', '32.2+.csv', '32.2-.csv', '33.1+.csv', '33.1-.csv', '34.1+.csv', '35.1+.csv', '35.1-.csv', '36.1+.csv', '36.1-.csv', '37.1+.csv', '39.1+.csv', '39.2+.csv', '39.2-.csv', '41.1+.csv', '41.1-.csv', '41.2+.csv', '41.2-.csv', '42.1-.csv', '42.2+.csv', '42.2-.csv', '43.1+.csv', '43.2-.csv', '44.2+.csv', '45.1+.csv', '45.1-.csv', '46.2+.csv', '46.2-.csv', '47.1+.csv', '47.1-.csv', '47.2+.csv', '48.1+.csv', '48.1-.csv', '48.2+.csv', '48.2-.csv', '50.2+.csv', '50.2-.csv', '51.2+.csv', '51.2-.csv', '52.1+.csv', '52.1-.csv', '52.2+.csv', '53.1+.csv', '53.1-.csv', '54.1+.csv', '54.1-.csv', '54.2+.csv', '55.2+.csv', '55.2-.csv', '56.1+.csv', '56.1-.csv', '56.2+.csv', '56.2-.csv', '58.1+.csv', '58.2+.csv', '58.2-.csv', '59.1+.csv', '59.1-.csv', '59.2+.csv', '59.2-.csv', '60.1+.csv', '60.1-.csv', '60.2+.csv', '60.2-.csv']\n"
     ]
    },
    {
     "name": "stderr",
     "output_type": "stream",
     "text": [
      "<ipython-input-6-38ecc46ca2b6>:26: DeprecationWarning: The default dtype for empty Series will be 'object' instead of 'float64' in a future version. Specify a dtype explicitly to silence this warning.\n",
      "  df2 = pd.Series()\n"
     ]
    }
   ],
   "source": [
    "import pandas as pd\n",
    "import numpy as np\n",
    "import csv\n",
    "import os\n",
    "import pandas as pd\n",
    "import numpy as np\n",
    "import os.path\n",
    "from sklearn import linear_model # 导入线性模型包\n",
    "import pandas as pd\n",
    "import numpy as np\n",
    "import csv\n",
    "import matplotlib.pyplot as plt\n",
    "from sklearn import neighbors # 导入KNN包\n",
    "import sys\n",
    "import natsort\n",
    "os.chdir(r\"D:\\dianchi\\电池焊缝数据220组\\无缺陷\") \n",
    "ppt_filename1 = natsort.natsorted(os.listdir(\"./\"),alg = natsort.ns.PATH)\n",
    "\n",
    "zongyan = []\n",
    "labelyan = []\n",
    "pic_files = [fn for fn in ppt_filename1 if fn.endswith('.csv')]\n",
    "print(pic_files)\n",
    "first = []\n",
    "wu = []\n",
    "jishu = 0\n",
    "df2 = pd.Series()\n",
    "for fn in pic_files:\n",
    "    jishu +=1\n",
    "    df=pd.read_csv(fn,sep=\"\\t\",skiprows=[0,1,2,3,4,5,6,7,8,9,10,11,12,13,14,15,16,17,18,19,20],usecols=[\"Untitled\", \"Untitled 1\"])\n",
    "    df1 = df[\"Untitled\"]\n",
    "    df2 = pd.concat([df2,df1],axis=1)\n",
    "pic_files.append(0)    \n",
    "jieg = pd.DataFrame(df2)\n",
    "jieg.to_csv(r\"D:\\dianchi\\pilian\\wu1.csv\",header = pic_files,index=0)"
   ]
  },
  {
   "cell_type": "code",
   "execution_count": null,
   "id": "c1185f0c",
   "metadata": {},
   "outputs": [],
   "source": []
  }
 ],
 "metadata": {
  "kernelspec": {
   "display_name": "Python 3",
   "language": "python",
   "name": "python3"
  },
  "language_info": {
   "codemirror_mode": {
    "name": "ipython",
    "version": 3
   },
   "file_extension": ".py",
   "mimetype": "text/x-python",
   "name": "python",
   "nbconvert_exporter": "python",
   "pygments_lexer": "ipython3",
   "version": "3.8.8"
  },
  "vp": {
   "vp_config_version": "1.0.0",
   "vp_menu_width": 273,
   "vp_note_display": false,
   "vp_note_width": 0,
   "vp_position": {
    "width": 278
   },
   "vp_section_display": false,
   "vp_signature": "VisualPython"
  }
 },
 "nbformat": 4,
 "nbformat_minor": 5
}
