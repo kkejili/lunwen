{
 "cells": [
  {
   "cell_type": "markdown",
   "id": "6f1c15f2",
   "metadata": {},
   "source": [
    "# 众数判别"
   ]
  },
  {
   "cell_type": "code",
   "execution_count": 2,
   "id": "782a7ac4",
   "metadata": {},
   "outputs": [
    {
     "ename": "IndentationError",
     "evalue": "expected an indented block (<ipython-input-2-8377958f2208>, line 115)",
     "output_type": "error",
     "traceback": [
      "\u001b[1;36m  File \u001b[1;32m\"<ipython-input-2-8377958f2208>\"\u001b[1;36m, line \u001b[1;32m115\u001b[0m\n\u001b[1;33m    for qule in np.arange(4,chang,qujian):\u001b[0m\n\u001b[1;37m    ^\u001b[0m\n\u001b[1;31mIndentationError\u001b[0m\u001b[1;31m:\u001b[0m expected an indented block\n"
     ]
    }
   ],
   "source": [
    "import pandas as pd\n",
    "import numpy as np\n",
    "import csv\n",
    "import pandas as pd\n",
    "import numpy as np\n",
    "import csv\n",
    "# -*- coding: utf-8 -*-\n",
    "import sys\n",
    "import pandas as pd\n",
    "import numpy as np\n",
    "import csv\n",
    "from scipy import stats  \n",
    "from PyQt5 import QtCore, QtGui, QtWidgets\n",
    "from PyQt5.QtWidgets import QApplication, QMainWindow, QMessageBox,QInputDialog,QFileDialog\n",
    "from keras.models import load_model\n",
    "import pandas as pd\n",
    "\n",
    "m=[]\n",
    "a=[]\n",
    "b=[]\n",
    "class Ui_Form(object):\n",
    "    def setupUi(self, Form):\n",
    "        Form.setObjectName(\"Form\")\n",
    "        Form.resize(443, 120)\n",
    "        self.widget = QtWidgets.QWidget(Form)\n",
    "        self.widget.setGeometry(QtCore.QRect(50, 40, 301, 25))\n",
    "        self.widget.setObjectName(\"widget\")\n",
    "        self.horizontalLayout = QtWidgets.QHBoxLayout(self.widget)\n",
    "        self.horizontalLayout.setContentsMargins(0, 0, 0, 0)\n",
    "        self.horizontalLayout.setObjectName(\"horizontalLayout\")\n",
    "        self.openFileButton = QtWidgets.QPushButton(self.widget)\n",
    "        self.openFileButton.setObjectName(\"openFileButton\")\n",
    "        self.horizontalLayout.addWidget(self.openFileButton)\n",
    "        self.filePathlineEdit = QtWidgets.QLineEdit(self.widget)\n",
    "        self.filePathlineEdit.setObjectName(\"filePathlineEdit\")\n",
    "        self.horizontalLayout.addWidget(self.filePathlineEdit)\n",
    "        self.retranslateUi(Form)\n",
    "        QtCore.QMetaObject.connectSlotsByName(Form)\n",
    "    def retranslateUi(self, Form):\n",
    "        _translate = QtCore.QCoreApplication.translate\n",
    "        Form.setWindowTitle(_translate(\"Form\", \"处理数据\"))\n",
    "        self.openFileButton.setText(_translate(\"Form\", \"打开文件\"))\n",
    "class MyMainForm(QMainWindow, Ui_Form):\n",
    "    def __init__(self, parent=None):\n",
    "        super(MyMainForm, self).__init__(parent)\n",
    "        self.setupUi(self)\n",
    "        self.openFileButton.clicked.connect(self.openFile)\n",
    "    def openFile(self):\n",
    "        get_filename_path, ok = QFileDialog.getOpenFileName(self,\n",
    "                      \"选取单个文件\",\n",
    "                      \"C:/\",\n",
    "                      \"All Files (*);;Text Files (*.txt)\")\n",
    "        if ok:\n",
    "            self.chuli(str(get_filename_path))\n",
    "            self.filePathlineEdit.setText(str(get_filename_path)) \n",
    "    def chuli(self,wenjian):\n",
    "        df=pd.read_csv(wenjian,sep=\"\\t\",skiprows=[0,1,2,3,4,5,6,7,8,9,10,11,12,13,14,15,16,17,18,19,20],usecols=[\"Untitled\", \"Untitled 1\"])\n",
    "        zongshu = stats.mode(round(df['Untitled'],2))[0][0]\n",
    "        print(zongshu)\n",
    "        global chang\n",
    "        global qujian \n",
    "        qujian = 1\n",
    "        df1 = df[\"Untitled\"]\n",
    "        if len(df1)<600:\n",
    "            chang = 300\n",
    "        else:\n",
    "            chang = 651\n",
    "        dff = pd.Series(df1)\n",
    "        first = []\n",
    "        first1 = []\n",
    "        i=0\n",
    "\n",
    "        fdic = {}\n",
    "        edic = {}\n",
    "        def sum5(i,df,qu):\n",
    "            first = []\n",
    "            while i < chang:\n",
    "                if i >200 and i < 400:\n",
    "                    j = sum(df[i:i+qu])\n",
    "                    first.append(j)\n",
    "                i+=qu\n",
    "            return first\n",
    "        for qu in np.arange(1,chang,qujian):\n",
    "            fdic[qu]=sum5(i,dff,qu)\n",
    "\n",
    "        #print(fdic)\n",
    "        #print(chang)\n",
    "        def sjifen(first):\n",
    "            jifen1 = [((m-zongshu*qu)/(zongshu*qu)) for m in first]\n",
    "            print(jifen1)\n",
    "            count=0\n",
    "            res = []\n",
    "            lis = []\n",
    "            #print(jifen1)\n",
    "            dic = {}\n",
    "            for j in np.arange(0,1,0.01):\n",
    "                #print(j)\n",
    "                res = []\n",
    "                for i in jifen1:\n",
    "                    if(abs(i)>j):\n",
    "                        res.append(1)\n",
    "                    else:\n",
    "                        res.append(0)\n",
    "                dic[j]=res\n",
    "            newdic = {}\n",
    "            #print(dic)\n",
    "            for i in dic:\n",
    "                #print(dic[i]) \n",
    "                if any(dic[i])!=0:\n",
    "                    newdic.update({i:dic[i]})\n",
    "\n",
    "\n",
    "            for lr in newdic:\n",
    "                #print(lr,newdic[lr])\n",
    "        for qule in np.arange(4,chang,qujian):\n",
    "\n",
    "            print('***********************'+str(qule))\n",
    "            sjifen(fdic[qule])\n",
    "if __name__ == \"__main__\":\n",
    "    app = QApplication(sys.argv)\n",
    "    myWin = MyMainForm()\n",
    "    myWin.show()\n",
    "    sys.exit(app.exec_())   "
   ]
  },
  {
   "cell_type": "code",
   "execution_count": 5,
   "id": "373f708e",
   "metadata": {},
   "outputs": [
    {
     "name": "stdout",
     "output_type": "stream",
     "text": [
      "0.0\n"
     ]
    },
    {
     "ename": "NameError",
     "evalue": "name 'jifen1' is not defined",
     "output_type": "error",
     "traceback": [
      "\u001b[1;31m---------------------------------------------------------------------------\u001b[0m",
      "\u001b[1;31mNameError\u001b[0m                                 Traceback (most recent call last)",
      "\u001b[1;32m<ipython-input-5-241009cd6f15>\u001b[0m in \u001b[0;36m<module>\u001b[1;34m\u001b[0m\n\u001b[0;32m      3\u001b[0m     \u001b[0mprint\u001b[0m\u001b[1;33m(\u001b[0m\u001b[0mj\u001b[0m\u001b[1;33m)\u001b[0m\u001b[1;33m\u001b[0m\u001b[1;33m\u001b[0m\u001b[0m\n\u001b[0;32m      4\u001b[0m     \u001b[0mres\u001b[0m \u001b[1;33m=\u001b[0m \u001b[1;33m[\u001b[0m\u001b[1;33m]\u001b[0m\u001b[1;33m\u001b[0m\u001b[1;33m\u001b[0m\u001b[0m\n\u001b[1;32m----> 5\u001b[1;33m     \u001b[1;32mfor\u001b[0m \u001b[0mi\u001b[0m \u001b[1;32min\u001b[0m \u001b[0mjifen1\u001b[0m\u001b[1;33m:\u001b[0m\u001b[1;33m\u001b[0m\u001b[1;33m\u001b[0m\u001b[0m\n\u001b[0m\u001b[0;32m      6\u001b[0m             \u001b[1;32mif\u001b[0m\u001b[1;33m(\u001b[0m\u001b[0mabs\u001b[0m\u001b[1;33m(\u001b[0m\u001b[0mi\u001b[0m\u001b[1;33m)\u001b[0m\u001b[1;33m>\u001b[0m\u001b[0mj\u001b[0m\u001b[1;33m)\u001b[0m\u001b[1;33m:\u001b[0m\u001b[1;33m\u001b[0m\u001b[1;33m\u001b[0m\u001b[0m\n\u001b[0;32m      7\u001b[0m                 \u001b[0mres\u001b[0m\u001b[1;33m.\u001b[0m\u001b[0mappend\u001b[0m\u001b[1;33m(\u001b[0m\u001b[1;36m1\u001b[0m\u001b[1;33m)\u001b[0m\u001b[1;33m\u001b[0m\u001b[1;33m\u001b[0m\u001b[0m\n",
      "\u001b[1;31mNameError\u001b[0m: name 'jifen1' is not defined"
     ]
    }
   ],
   "source": [
    "import numpy as np\n",
    "for j in np.arange(0,1,0.01):\n",
    "    print(j)\n",
    "    res = []\n",
    "    for i in jifen1:\n",
    "            if(abs(i)>j):\n",
    "                res.append(1)\n",
    "            else:\n",
    "                res.append(0)\n",
    "print(res)\n",
    "if lr != 0.0:\n",
    "                    input_lst = []\n",
    "                    total_num = []"
   ]
  },
  {
   "cell_type": "markdown",
   "id": "bfc600ba",
   "metadata": {},
   "source": [
    "# 积分判别"
   ]
  },
  {
   "cell_type": "code",
   "execution_count": null,
   "id": "746d4793",
   "metadata": {},
   "outputs": [],
   "source": [
    "import pandas as pd\n",
    "import numpy as np\n",
    "import csv\n",
    "# -*- coding: utf-8 -*-\n",
    "import sys\n",
    "import pandas as pd\n",
    "import numpy as np\n",
    "import csv\n",
    "from PyQt5 import QtCore, QtGui, QtWidgets\n",
    "from PyQt5.QtWidgets import QApplication, QMainWindow, QMessageBox,QInputDialog,QFileDialog\n",
    "from keras.models import load_model\n",
    "import pandas as pd\n",
    "import tensorflow as tf\n",
    "m=[]\n",
    "a=[]\n",
    "b=[]\n",
    "class Ui_Form(object):\n",
    "    def setupUi(self, Form):\n",
    "        Form.setObjectName(\"Form\")\n",
    "        Form.resize(443, 120)\n",
    "        self.widget = QtWidgets.QWidget(Form)\n",
    "        self.widget.setGeometry(QtCore.QRect(50, 40, 301, 25))\n",
    "        self.widget.setObjectName(\"widget\")\n",
    "        self.horizontalLayout = QtWidgets.QHBoxLayout(self.widget)\n",
    "        self.horizontalLayout.setContentsMargins(0, 0, 0, 0)\n",
    "        self.horizontalLayout.setObjectName(\"horizontalLayout\")\n",
    "        self.openFileButton = QtWidgets.QPushButton(self.widget)\n",
    "        self.openFileButton.setObjectName(\"openFileButton\")\n",
    "        self.horizontalLayout.addWidget(self.openFileButton)\n",
    "        self.filePathlineEdit = QtWidgets.QLineEdit(self.widget)\n",
    "        self.filePathlineEdit.setObjectName(\"filePathlineEdit\")\n",
    "        self.horizontalLayout.addWidget(self.filePathlineEdit)\n",
    "        self.retranslateUi(Form)\n",
    "        QtCore.QMetaObject.connectSlotsByName(Form)\n",
    "    def retranslateUi(self, Form):\n",
    "        _translate = QtCore.QCoreApplication.translate\n",
    "        Form.setWindowTitle(_translate(\"Form\", \"处理数据\"))\n",
    "        self.openFileButton.setText(_translate(\"Form\", \"打开文件\"))\n",
    "class MyMainForm(QMainWindow, Ui_Form):\n",
    "    def __init__(self, parent=None):\n",
    "        super(MyMainForm, self).__init__(parent)\n",
    "        self.setupUi(self)\n",
    "        self.openFileButton.clicked.connect(self.openFile)\n",
    "    def openFile(self):\n",
    "        get_filename_path, ok = QFileDialog.getOpenFileName(self,\n",
    "                      \"选取单个文件\",\n",
    "                      \"C:/\",\n",
    "                      \"All Files (*);;Text Files (*.txt)\")\n",
    "        if ok:\n",
    "            self.chuli(str(get_filename_path))\n",
    "            self.filePathlineEdit.setText(str(get_filename_path)) \n",
    "    def chuli(self,wenjian):\n",
    "        df=pd.read_csv(wenjian,usecols=[\"0\", \"1\"])\n",
    "        #df3 = df[\"unit3\"]\n",
    "        global chang\n",
    "        global qujian \n",
    "        qujian = 1\n",
    "        df1 = df[\"0\"]\n",
    "        df2 = df[\"1\"]\n",
    "        #df3 = df[\"unit3\"]\n",
    "        if len(df1)<600:\n",
    "            chang = 300\n",
    "        else:\n",
    "            chang = 600\n",
    "        #print(sum(df1[:5]))\n",
    "        #print(chang)\n",
    "        dff = pd.Series(df1)\n",
    "        #print(df)\n",
    "        dfe = pd.Series(df2)\n",
    "\n",
    "        first = []\n",
    "        first1 = []\n",
    "        i=0\n",
    "        sum(dff[:5])\n",
    "        fdic = {}\n",
    "        edic = {}\n",
    "        def sum5(i,df,qu):\n",
    "            first = []\n",
    "            while i < chang:\n",
    "                if i >0:\n",
    "                    j = sum(df[i:i+qu])\n",
    "                    first.append(j)\n",
    "                i+=qu\n",
    "            return first\n",
    "        for qu in np.arange(1,chang,qujian):\n",
    "            fdic[qu]=sum5(i,dff,qu)\n",
    "        for qu in np.arange(1,chang,qujian):\n",
    "            edic[qu]=sum5(i,dfe,qu)\n",
    "        #print(fdic)\n",
    "        #print(chang)\n",
    "        def sjifen(first,first1):\n",
    "            jifen1 = [((j-i)/i) for i,j in zip(first,first1)]\n",
    "            #print(jifen1)\n",
    "            count=0\n",
    "            res = []\n",
    "            lis = []\n",
    "            #print(jifen1)\n",
    "            dic = {}\n",
    "            for j in np.arange(0,1,0.01):\n",
    "                #print(j)\n",
    "                res = []\n",
    "                for i in jifen1:\n",
    "                    if(abs(i)>j):\n",
    "                        res.append(1)\n",
    "                    else:\n",
    "                        res.append(0)\n",
    "                dic[j]=res\n",
    "            newdic = {}\n",
    "            #print(dic)\n",
    "            for i in dic:\n",
    "                #print(dic[i])\n",
    "                if any(dic[i])!=0:\n",
    "                    newdic.update({i:dic[i]})\n",
    "\n",
    "\n",
    "            for lr in newdic:\n",
    "                if lr != 0.0:\n",
    "                    input_lst = []\n",
    "                    total_num = []\n",
    "                    print(lr,newdic[lr])\n",
    "        for qu in np.arange(1,chang,qujian):\n",
    "\n",
    "            print('***********************'+str(qu))\n",
    "            sjifen(fdic[qu],edic[qu])\n",
    "    \n",
    "if __name__ == \"__main__\":\n",
    "    app = QApplication(sys.argv)\n",
    "    myWin = MyMainForm()\n",
    "    myWin.show()\n",
    "    sys.exit(app.exec_())\n"
   ]
  },
  {
   "cell_type": "markdown",
   "id": "37de559b",
   "metadata": {},
   "source": [
    "# 神经网络预测"
   ]
  },
  {
   "cell_type": "code",
   "execution_count": null,
   "id": "38d4eefe",
   "metadata": {},
   "outputs": [],
   "source": [
    "# -*- coding: utf-8 -*-\n",
    "import sys\n",
    "import pandas as pd\n",
    "import numpy as np\n",
    "import csv\n",
    "from PyQt5 import QtCore, QtGui, QtWidgets\n",
    "from PyQt5.QtWidgets import QApplication, QMainWindow, QMessageBox,QInputDialog,QFileDialog\n",
    "from keras.models import load_model\n",
    "import pandas as pd\n",
    "import tensorflow as tf\n",
    "m=[]\n",
    "a=[]\n",
    "b=[]\n",
    "class Ui_Form(object):\n",
    "    def setupUi(self, Form):\n",
    "        Form.setObjectName(\"Form\")\n",
    "        Form.resize(443, 120)\n",
    "        self.widget = QtWidgets.QWidget(Form)\n",
    "        self.widget.setGeometry(QtCore.QRect(50, 40, 301, 25))\n",
    "        self.widget.setObjectName(\"widget\")\n",
    "        self.horizontalLayout = QtWidgets.QHBoxLayout(self.widget)\n",
    "        self.horizontalLayout.setContentsMargins(0, 0, 0, 0)\n",
    "        self.horizontalLayout.setObjectName(\"horizontalLayout\")\n",
    "        self.openFileButton = QtWidgets.QPushButton(self.widget)\n",
    "        self.openFileButton.setObjectName(\"openFileButton\")\n",
    "        self.horizontalLayout.addWidget(self.openFileButton)\n",
    "        self.filePathlineEdit = QtWidgets.QLineEdit(self.widget)\n",
    "        self.filePathlineEdit.setObjectName(\"filePathlineEdit\")\n",
    "        self.horizontalLayout.addWidget(self.filePathlineEdit)\n",
    "        self.retranslateUi(Form)\n",
    "        QtCore.QMetaObject.connectSlotsByName(Form)\n",
    "    def retranslateUi(self, Form):\n",
    "        _translate = QtCore.QCoreApplication.translate\n",
    "        Form.setWindowTitle(_translate(\"Form\", \"处理数据\"))\n",
    "        self.openFileButton.setText(_translate(\"Form\", \"打开文件\"))\n",
    "class MyMainForm(QMainWindow, Ui_Form):\n",
    "    def __init__(self, parent=None):\n",
    "        super(MyMainForm, self).__init__(parent)\n",
    "        self.setupUi(self)\n",
    "        self.openFileButton.clicked.connect(self.openFile)\n",
    "    def openFile(self):\n",
    "        get_filename_path, ok = QFileDialog.getOpenFileName(self,\n",
    "                      \"选取单个文件\",\n",
    "                      \"C:/\",\n",
    "                      \"All Files (*);;Text Files (*.txt)\")\n",
    "        if ok:\n",
    "            self.chuli(str(get_filename_path))\n",
    "            self.filePathlineEdit.setText(str(get_filename_path)) \n",
    "    def chuli(self,wenjian):\n",
    "        df1=pd.read_csv(wenjian,sep=\",\",header=[0])\n",
    "        x1 = df1['1'].values.reshape(1,-1)\n",
    "        x1 = tf.convert_to_tensor(x1)\n",
    "        model=load_model(\"xunlian5qianniu9.h5\")\n",
    "        pres = model.predict(x1)\n",
    "        QMessageBox.information(self, \"返回值\",  \"得到：{}\\n\\ntype: {}\".format(pres, type(pres)), QMessageBox.Yes | QMessageBox.No)\n",
    "if __name__ == \"__main__\":\n",
    "    app = QApplication(sys.argv)\n",
    "    myWin = MyMainForm()\n",
    "    myWin.show()\n",
    "    sys.exit(app.exec_())"
   ]
  },
  {
   "cell_type": "markdown",
   "id": "d6ad0881",
   "metadata": {},
   "source": [
    "# knn分类算法"
   ]
  },
  {
   "cell_type": "code",
   "execution_count": 6,
   "id": "561ac149",
   "metadata": {},
   "outputs": [
    {
     "name": "stdout",
     "output_type": "stream",
     "text": [
      "[0]\n"
     ]
    },
    {
     "name": "stderr",
     "output_type": "stream",
     "text": [
      "C:\\Users\\33287\\anaconda3\\lib\\site-packages\\sklearn\\neighbors\\_classification.py:211: FutureWarning: Unlike other reduction functions (e.g. `skew`, `kurtosis`), the default behavior of `mode` typically preserves the axis it acts along. In SciPy 1.11.0, this behavior will change: the default value of `keepdims` will become False, the `axis` over which the statistic is taken will be eliminated, and the value None will no longer be accepted. Set `keepdims` to True or False to avoid this warning.\n",
      "  mode, _ = stats.mode(_y[neigh_ind, k], axis=1)\n"
     ]
    }
   ],
   "source": [
    "import pandas as pd\n",
    "\n",
    "from sklearn import neighbors # 导入KNN包\n",
    "import sys\n",
    "import pickle\n",
    "\n",
    "df=pd.read_csv('神经1.csv',sep=\",\",header=[0])\n",
    "\n",
    "x = df['3'].values.reshape(12,-1)\n",
    "y=[1,1,1,1,1,1,1,1,0,0,0,0]\n",
    "y = pd.Series(y)\n",
    "n_neighbors = int(3) # 在命令行指定邻居数\n",
    "weights = 'uniform' # 每个邻居的权重相等\n",
    "clf = neighbors.KNeighborsClassifier(n_neighbors, weights=weights) # 创建一个KNN的实例\n",
    "clf.fit(x, y) # 训练模型\n",
    "df1=pd.read_csv('自制0mm缺陷总.csv',sep=\",\",header=[0])\n",
    "x1 = df1['0'].values.reshape(1,-1)\n",
    "predY = clf.predict(x1) # 预测测试集\n",
    "print(predY)\n",
    "\n",
    "#save model\n",
    "f = open('clfknn.pickle','wb')\n",
    "pickle.dump(clf,f)\n",
    "f.close()\n",
    "#load model\n"
   ]
  },
  {
   "cell_type": "code",
   "execution_count": null,
   "id": "dcec8b29",
   "metadata": {},
   "outputs": [],
   "source": [
    "f = open('saved_model/rfc.pickle','rb')\n",
    "rfc1 = pickle.load(f)\n",
    "f.close()"
   ]
  },
  {
   "cell_type": "markdown",
   "id": "7281bb01",
   "metadata": {},
   "source": [
    "#  Logistic回归分类"
   ]
  },
  {
   "cell_type": "code",
   "execution_count": null,
   "id": "7248aa77",
   "metadata": {},
   "outputs": [],
   "source": [
    "from sklearn import linear_model # 导入线性模型包\n",
    "import pandas as pd\n",
    "import numpy as np\n",
    "import csv\n",
    "import seaborn as sb\n",
    "import matplotlib.pyplot as plt\n",
    "from sklearn import neighbors # 导入KNN包\n",
    "import sys\n",
    "\n",
    "\n",
    "df=pd.read_csv('神经1.csv',sep=\",\",header=[0])\n",
    "\n",
    "x = df['3'].values.reshape(12,-1)\n",
    "y = [1,1,1,1,1,1,1,1,0,0,0,0]\n",
    "y = pd.Series(y)\n",
    "maxIterations = 1000\n",
    "clf = linear_model.LogisticRegression(max_iter=maxIterations) # 创建一个LR的实例\n",
    "clf.fit(x, y) # 训练模型\n",
    "df1=pd.read_csv('自制3mm缺陷总.csv',sep=\",\",header=[0])\n",
    "x1 = df1['0'].values.reshape(1,-1)\n",
    "predY = clf.predict(x1) # 预测测试集\n",
    "print(predY)"
   ]
  },
  {
   "cell_type": "markdown",
   "id": "4834cd10",
   "metadata": {},
   "source": [
    "# Decision Tree分类"
   ]
  },
  {
   "cell_type": "code",
   "execution_count": 15,
   "id": "8dd4a768",
   "metadata": {},
   "outputs": [
    {
     "name": "stdout",
     "output_type": "stream",
     "text": [
      "[0]\n"
     ]
    }
   ],
   "source": [
    "from sklearn import tree # 导入Decision Trees包\n",
    "import pandas as pd\n",
    "df=pd.read_csv('神经1.csv',sep=\",\",header=[0])\n",
    "\n",
    "x = df['3'].values.reshape(12,-1)\n",
    "y = [1,1,1,1,1,1,1,1,0,0,0,0]\n",
    "\n",
    "clf = tree.DecisionTreeClassifier() # 创建一个DT的实例\n",
    "\n",
    "clf.fit(x, y) # 训练模型\n",
    "df1=pd.read_csv('自制0mm缺陷总.csv',sep=\",\",header=[0])\n",
    "x1 = df1['0'].values.reshape(1,-1)\n",
    "predY = clf.predict(x1) # 预测测试集\n",
    "print(predY)\n"
   ]
  },
  {
   "cell_type": "markdown",
   "id": "7877a7b9",
   "metadata": {},
   "source": [
    "# GaussianNB分类"
   ]
  },
  {
   "cell_type": "code",
   "execution_count": 24,
   "id": "014d5b4e",
   "metadata": {},
   "outputs": [
    {
     "name": "stdout",
     "output_type": "stream",
     "text": [
      "0     1\n",
      "1     1\n",
      "2     1\n",
      "3     1\n",
      "4     1\n",
      "5     1\n",
      "6     1\n",
      "7     1\n",
      "8     0\n",
      "9     0\n",
      "10    0\n",
      "11    0\n",
      "dtype: int64\n",
      "[0 0 1 1 1 1 1 0 0 0 0 0]\n",
      "1.0\n",
      "0.625\n"
     ]
    }
   ],
   "source": [
    "from sklearn import naive_bayes # 导入NB包\n",
    "import pandas as pd\n",
    "df=pd.read_csv('神经1.csv',sep=\",\",header=[0])\n",
    "\n",
    "x = df['3'].values.reshape(12,-1)\n",
    "y = [1,1,1,1,1,1,1,1,0,0,0,0]\n",
    "y = pd.Series(y)\n",
    "clf = naive_bayes.GaussianNB() # 创建一个NB的实例\n",
    "clf.fit(x, y) # 训练模型\n",
    "\n",
    "df1=pd.read_csv('神经1.csv',sep=\",\",header=[0])\n",
    "x1 = df1['3'].values.reshape(12,-1)\n",
    "predY = clf.predict(x1) # 预测测试集\n",
    "#print(predY)\n",
    "def TN(y_true,y_predict):\n",
    "    assert len(y_true)==len(y_predict)\n",
    "    return np.sum((y_true == 0) & (y_predict == 0))\n",
    "def FP(y_true,y_predict):\n",
    "    assert len(y_true)==len(y_predict)\n",
    "    return np.sum((y_true == 0) & (y_predict == 1))\n",
    "def FN(y_true,y_predict):\n",
    "    assert len(y_true)==len(y_predict)\n",
    "    return np.sum((y_true == 1) & (y_predict == 0))\n",
    "def TP(y_true,y_predict):\n",
    "    assert len(y_true)==len(y_predict)\n",
    "    return np.sum((y_true == 1) & (y_predict == 1))\n",
    "def precision_score(y_true,y_predict):\n",
    "    tp = TP(y_true,y_predict)\n",
    "    fp = FP(y_true,y_predict)\n",
    "    try:\n",
    "        return tp/(tp + fp)\n",
    "    except:\n",
    "        return 0.0\n",
    "def recall_score(y_true,y_predict):\n",
    "    tp = TP(y_true,y_predict)\n",
    "    fn = FN(y_true,y_predict)\n",
    "    try:\n",
    "        return tp/(tp + fn)\n",
    "    except:\n",
    "        return 0.0\n",
    "print(y)\n",
    "print(predY)\n",
    "a = precision_score(y,predY)\n",
    "b = recall_score(y,predY)\n",
    "print(a)\n",
    "print(b)"
   ]
  },
  {
   "cell_type": "markdown",
   "id": "2b9b3c6a",
   "metadata": {},
   "source": [
    "# SVC分类"
   ]
  },
  {
   "cell_type": "code",
   "execution_count": 8,
   "id": "e70ae304",
   "metadata": {},
   "outputs": [
    {
     "name": "stdout",
     "output_type": "stream",
     "text": [
      "[1]\n"
     ]
    },
    {
     "data": {
      "text/plain": [
       "['clfsvc.pkl']"
      ]
     },
     "execution_count": 8,
     "metadata": {},
     "output_type": "execute_result"
    }
   ],
   "source": [
    "import numpy as np\n",
    "from sklearn import svm # 导入svm包\n",
    "import sys\n",
    "from sklearn import preprocessing # 导入数据预处理包\n",
    "from sklearn.model_selection import GridSearchCV # 导入参数寻优包\n",
    "import pandas as pd\n",
    "df=pd.read_csv('神经1.csv',sep=\",\",header=[0])\n",
    "import joblib\n",
    "x = df['3'].values.reshape(12,-1)\n",
    "y = [1,1,1,1,1,1,1,1,0,0,0,0]\n",
    "\n",
    "kernelFunction = 'linear' # {‘linear’, ‘poly’, ‘rbf’, ‘sigmoid’, ‘precomputed’}, default=’rbf’\n",
    "    \n",
    "clf = svm.SVC(kernel=kernelFunction) # 创建一个SVC的实例\n",
    "clf.fit(x, y) # 训练模型\n",
    "df1=pd.read_csv('自制0mm缺陷总.csv',sep=\",\",header=[0])\n",
    "x1 = df1['0'].values.reshape(1,-1)\n",
    "predY = clf.predict(x1) # 预测测试集\n",
    "print(predY)\n",
    "joblib.dump(clf, 'clfsvc.pkl')\n",
    "#load model\n",
    "#rfc2 = joblib.load('saved_model/rfc.pkl')\n",
    "#print(rfc2.predict(X[0:1,:]))"
   ]
  },
  {
   "cell_type": "code",
   "execution_count": 6,
   "id": "d0eaddd5",
   "metadata": {},
   "outputs": [
    {
     "name": "stdout",
     "output_type": "stream",
     "text": [
      "[0]\n"
     ]
    }
   ],
   "source": [
    "import numpy as np\n",
    "from sklearn import svm # 导入svm包\n",
    "import sys\n",
    "from sklearn import preprocessing # 导入数据预处理包\n",
    "from sklearn.model_selection import GridSearchCV # 导入参数寻优包\n",
    "import pandas as pd\n",
    "df=pd.read_csv('神经1.csv',sep=\",\",header=[0])\n",
    "import joblib\n",
    "x = df['3'].values.reshape(12,-1)\n",
    "y = [1,1,1,1,1,1,1,1,0,0,0,0]\n",
    "\n",
    "kernelFunction = 'poly' # {‘linear’, ‘poly’, ‘rbf’, ‘sigmoid’, ‘precomputed’}, default=’rbf’\n",
    "    \n",
    "clf = svm.SVC(kernel=kernelFunction) # 创建一个SVC的实例\n",
    "clf.fit(x, y) # 训练模型\n",
    "df1=pd.read_csv('自制0mm缺陷总.csv',sep=\",\",header=[0])\n",
    "x1 = df1['0'].values.reshape(1,-1)\n",
    "predY = clf.predict(x1) # 预测测试集\n",
    "print(predY)"
   ]
  },
  {
   "cell_type": "code",
   "execution_count": 21,
   "id": "46668e50",
   "metadata": {},
   "outputs": [
    {
     "name": "stdout",
     "output_type": "stream",
     "text": [
      "[1 1 1 1 1 1 1 1 1 1 1 1]\n",
      "0.6666666666666666\n"
     ]
    }
   ],
   "source": [
    "import numpy as np\n",
    "from sklearn import svm # 导入svm包\n",
    "import sys\n",
    "from sklearn import preprocessing # 导入数据预处理包\n",
    "from sklearn.model_selection import GridSearchCV # 导入参数寻优包\n",
    "import pandas as pd\n",
    "df=pd.read_csv('神经1.csv',sep=\",\",header=[0])\n",
    "import joblib\n",
    "x = df['3'].values.reshape(12,-1)\n",
    "y = [1,1,1,1,1,1,1,1,0,0,0,0]\n",
    "y = pd.Series(y)\n",
    "kernelFunction = 'linear' # {‘linear’, ‘poly’, ‘rbf’, ‘sigmoid’, ‘precomputed’}, default=’rbf’\n",
    "    \n",
    "clf = svm.SVC(kernel=kernelFunction) # 创建一个SVC的实例\n",
    "clf.fit(x, y) # 训练模型\n",
    "df1=pd.read_csv('神经1.csv',sep=\",\",header=[0])\n",
    "x1 = df1['3'].values.reshape(12,-1)\n",
    "predY = clf.predict(x1) # 预测测试集\n",
    "print(predY)\n",
    "def TN(y_true,y_predict):\n",
    "    assert len(y_true)==len(y_predict)\n",
    "    return np.sum((y_true == 0) & (y_predict == 0))\n",
    "def FP(y_true,y_predict):\n",
    "    assert len(y_true)==len(y_predict)\n",
    "    return np.sum((y_true == 0) & (y_predict == 1))\n",
    "def FN(y_true,y_predict):\n",
    "    assert len(y_true)==len(y_predict)\n",
    "    return np.sum((y_true == 1) & (y_predict == 0))\n",
    "def TP(y_true,y_predict):\n",
    "    assert len(y_true)==len(y_predict)\n",
    "    return np.sum((y_true == 1) & (y_predict == 1))\n",
    "def precision_score(y_true,y_predict):\n",
    "    tp = TP(y_true,y_predict)\n",
    "    fp = FP(y_true,y_predict)\n",
    "    try:\n",
    "        return tp/(tp + fp)\n",
    "    except:\n",
    "        return 0.0\n",
    "a = precision_score(y,predY)\n",
    "print(a)"
   ]
  },
  {
   "cell_type": "code",
   "execution_count": null,
   "id": "429c967a",
   "metadata": {},
   "outputs": [],
   "source": [
    "def TN(y_true,y_predict):\n",
    "    assert len(y_true)==len(y_predict)\n",
    "    return np.sum((y_true == 0) & (y_predict == 0))"
   ]
  },
  {
   "cell_type": "code",
   "execution_count": null,
   "id": "1efdf450",
   "metadata": {},
   "outputs": [],
   "source": [
    "def FP(y_true,y_predict):\n",
    "    assert len(y_true)==len(y_predict)\n",
    "    return np.sum((y_true == 0) & (y_predict == 1))"
   ]
  },
  {
   "cell_type": "code",
   "execution_count": null,
   "id": "97eb9ba5",
   "metadata": {},
   "outputs": [],
   "source": [
    "def FN(y_true,y_predict):\n",
    "    assert len(y_true)==len(y_predict)\n",
    "    return np.sum((y_true == 1) & (y_predict == 0))"
   ]
  },
  {
   "cell_type": "code",
   "execution_count": null,
   "id": "c72cf3af",
   "metadata": {},
   "outputs": [],
   "source": [
    "def TP(y_true,y_predict):\n",
    "    assert len(y_true)==len(y_predict)\n",
    "    return np.sum((y_true == 1) & (y_predict == 1))"
   ]
  },
  {
   "cell_type": "code",
   "execution_count": null,
   "id": "d1c9230c",
   "metadata": {},
   "outputs": [],
   "source": [
    "def precision_score(y_true,y_predict):\n",
    "    tp = TP(y_true,y_predict)\n",
    "    fp = FP(y_true,y_predict)\n",
    "    try:\n",
    "        return tp/(tp + fp)\n",
    "    except:\n",
    "        return 0.0"
   ]
  },
  {
   "cell_type": "code",
   "execution_count": null,
   "id": "e8998fd9",
   "metadata": {},
   "outputs": [],
   "source": [
    "def recall_score(y_true,y_predict):\n",
    "    tp = TP(y_true,y_predict)\n",
    "    fn = FN(y_true,y_predict)\n",
    "    try:\n",
    "        return tp/(tp + fn)\n",
    "    except:\n",
    "        return 0.0"
   ]
  }
 ],
 "metadata": {
  "kernelspec": {
   "display_name": "Python 3",
   "language": "python",
   "name": "python3"
  },
  "language_info": {
   "codemirror_mode": {
    "name": "ipython",
    "version": 3
   },
   "file_extension": ".py",
   "mimetype": "text/x-python",
   "name": "python",
   "nbconvert_exporter": "python",
   "pygments_lexer": "ipython3",
   "version": "3.8.8"
  },
  "vp": {
   "vp_config_version": "1.0.0",
   "vp_menu_width": 273,
   "vp_note_display": false,
   "vp_note_width": 0,
   "vp_position": {
    "width": 278
   },
   "vp_section_display": false,
   "vp_signature": "VisualPython"
  }
 },
 "nbformat": 4,
 "nbformat_minor": 5
}
