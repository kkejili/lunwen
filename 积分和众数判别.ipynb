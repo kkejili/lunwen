{
 "cells": [
  {
   "cell_type": "code",
   "execution_count": 38,
   "id": "b17581ed",
   "metadata": {
    "scrolled": true
   },
   "outputs": [
    {
     "name": "stdout",
     "output_type": "stream",
     "text": [
      "['10.1-.csv', '10.2+.csv', '10.2-.csv', '11.2+.csv', '11.2-.csv', '12.1+.csv', '12.1-.csv', '12.2+.csv', '13.1+.csv', '13.2+.csv', '16.1-.csv', '16.2+.csv', '19.2+.csv', '19.2-.csv', '20.1-.csv', '22.1+.csv', '22.1-.csv', '23.1-.csv', '24.1+.csv', '24.1-.csv', '24.2-.csv', '26.2+(正).csv', '26.2+.csv', '28.1+.csv', '28.2-.csv', '29.1-.csv', '3.2+.csv', '3.2-.csv', '30.1+.csv', '30.1-.csv', '30.2+.csv', '32.1-.csv', '33.2-.csv', '34.1-.csv', '34.2+.csv', '35.2+.csv', '35.2-（漏焊）.csv', '36.2+.csv', '37.1-.csv', '37.2+.csv', '37.2-（漏焊）.csv', '38.1+.csv', '38.1-.csv', '39.1-.csv', '4.1+.csv', '4.1-.csv', '4.2+.csv', '4.2-.csv', '40.1+.csv', '40.1-.csv', '42.1+.csv', '43.1-.csv', '43.2+.csv', '44.2-.csv', '47.2-.csv', '49.1+.csv', '49.1-.csv', '5.1+.csv', '5.1-.csv', '5.2+.csv', '5.2-.csv', '50.1+.csv', '50.1-.csv', '52.2-.csv', '54.2-.csv', '55.2+.csv', '55.2-.csv', '57.1+.csv', '57.1-.csv', '58.2+.csv', '58.2-.csv', '6.1-.csv', '60.1+.csv', '60.1-.csv', '7.1+.csv', '7.1-.csv', '7.2+.csv', '8.2+.csv', '8.2-.csv', '9.2+.csv', '9.2-.csv', '！21.2+.csv', '！21.2-.csv', '！25.1+.csv', '！25.1-.csv', '！35.1-.csv', '！5.1+.csv', '！5.1-.csv', '！5.2+.csv', '！5.2-.csv', '！6.1+.csv', '！6.1-.csv', '！6.2+.csv', '！6.2-.csv', '！7.1+.csv', '！7.1-.csv', '！7.2+.csv', '！7.2-.csv', '！9.2+.csv', '！9.2-.csv']\n"
     ]
    },
    {
     "name": "stderr",
     "output_type": "stream",
     "text": [
      "<ipython-input-38-40eac97e9538>:59: FutureWarning: Unlike other reduction functions (e.g. `skew`, `kurtosis`), the default behavior of `mode` typically preserves the axis it acts along. In SciPy 1.11.0, this behavior will change: the default value of `keepdims` will become False, the `axis` over which the statistic is taken will be eliminated, and the value None will no longer be accepted. Set `keepdims` to True or False to avoid this warning.\n",
      "  zongshu = stats.mode(round(abs(df1),2))[0][0]\n"
     ]
    },
    {
     "name": "stdout",
     "output_type": "stream",
     "text": [
      "[0, 0, 0, 1, 1, 1, 1, 1, 1, 1, 1, 1, 1, 1, 1, 1, 1, 1, 1, 1, 1, 1, 1, 1, 1, 1, 1, 1, 1, 1, 1, 1, 1, 1, 1, 1, 1, 1, 1, 1, 1, 1, 1, 1, 1, 1, 1, 1, 1, 1, 1, 1, 1, 1, 1, 1, 1, 1, 1, 1, 1, 1, 1, 1, 1, 1, 1, 1, 1, 1, 1, 1, 1, 1, 1, 1, 1, 1, 1, 1, 1, 1, 1, 1, 1, 1, 1, 1, 1, 1, 1, 1, 1, 1, 1, 1, 1, 1, 1, 1]\n"
     ]
    }
   ],
   "source": [
    "import os\n",
    "import pandas as pd\n",
    "import numpy as np\n",
    "import os.path\n",
    "from sklearn import linear_model # 导入线性模型包\n",
    "import pandas as pd\n",
    "import numpy as np\n",
    "import csv\n",
    "import seaborn as sb\n",
    "import matplotlib.pyplot as plt\n",
    "from sklearn import neighbors # 导入KNN包\n",
    "import sys\n",
    "import pandas as pd\n",
    "import numpy as np\n",
    "import csv\n",
    "from scipy import stats \n",
    "\n",
    "\n",
    "os.chdir(r\"D:\\dianchi\\电池焊缝数据220组\\验证数据\") \n",
    "ppt_filename1 = os.listdir(\"./\")\n",
    "\n",
    "zongyan = []\n",
    "labelyan = []\n",
    "pic_files = [fn for fn in os.listdir() if fn.endswith('.csv')]\n",
    "print(pic_files)\n",
    "\n",
    "first = []\n",
    "res = []\n",
    "shuju = []\n",
    "def sum5(i,df,qu):\n",
    "            i = 0\n",
    "            first = []\n",
    "            while i < len(df):\n",
    "                if i >200 and i < 400:\n",
    "                    j = sum(df[i:i+qu])\n",
    "                    first.append(j)\n",
    "                i+=qu\n",
    "            return first\n",
    "def sjifen(first):\n",
    "        jifen1 = [((j-zongshu*5)/(zongshu*5)) for j in first]\n",
    "        #print(jifen1)\n",
    "        for i in jifen1:\n",
    "            if(abs(i)>0.01):\n",
    "                res.append(1)\n",
    "            else:\n",
    "                res.append(0)\n",
    "        if sum(res)>2000:\n",
    "            shuju.append(1)\n",
    "        else:\n",
    "            shuju.append(0)\n",
    "shuju = []\n",
    "#fdic[qu]=sum5(i,dff,5)\n",
    "for fn in pic_files:\n",
    "    \n",
    "    df=pd.read_csv(fn,sep=\"\\t\",skiprows=[0,1,2,3,4,5,6,7,8,9,10,11,12,13,14,15,16,17,18,19,20],usecols=[\"Untitled\", \"Untitled 1\"])\n",
    "    df1 = df[\"Untitled\"]\n",
    "    \n",
    "    zongyan.append(abs(df1))\n",
    "    zongshu = stats.mode(round(abs(df1),2))[0][0]\n",
    "    #print(zongshu)\n",
    "    sjifen(abs(df1))\n",
    "    #print(sjifen(abs(df1)))\n",
    "print(shuju)"
   ]
  },
  {
   "cell_type": "code",
   "execution_count": null,
   "id": "86f15e4d",
   "metadata": {},
   "outputs": [],
   "source": []
  }
 ],
 "metadata": {
  "kernelspec": {
   "display_name": "Python 3",
   "language": "python",
   "name": "python3"
  },
  "language_info": {
   "codemirror_mode": {
    "name": "ipython",
    "version": 3
   },
   "file_extension": ".py",
   "mimetype": "text/x-python",
   "name": "python",
   "nbconvert_exporter": "python",
   "pygments_lexer": "ipython3",
   "version": "3.8.8"
  },
  "vp": {
   "vp_config_version": "1.0.0",
   "vp_menu_width": 273,
   "vp_note_display": false,
   "vp_note_width": 0,
   "vp_position": {
    "width": 278
   },
   "vp_section_display": false,
   "vp_signature": "VisualPython"
  }
 },
 "nbformat": 4,
 "nbformat_minor": 5
}
