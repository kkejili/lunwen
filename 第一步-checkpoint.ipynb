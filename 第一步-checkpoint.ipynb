{
 "cells": [
  {
   "cell_type": "code",
   "execution_count": 2,
   "id": "68c9456c",
   "metadata": {},
   "outputs": [
    {
     "name": "stdout",
     "output_type": "stream",
     "text": [
      "<zip object at 0x00000267732FF400>\n",
      "         0     1             2\n",
      "0      0.0   0.0  1.930000e-07\n",
      "1      0.1   0.0  1.930000e-07\n",
      "2      0.2   0.0  3.736000e-06\n",
      "3      0.3   0.0  1.178800e-05\n",
      "4      0.4   0.0  2.306100e-05\n",
      "...    ...   ...           ...\n",
      "9326  29.6  30.0  3.941690e-04\n",
      "9327  29.7  30.0  3.928800e-04\n",
      "9328  29.8  30.0  3.941690e-04\n",
      "9329  29.9  30.0  3.938470e-04\n",
      "9330  30.0  30.0  3.941690e-04\n",
      "\n",
      "[9331 rows x 3 columns]\n"
     ]
    }
   ],
   "source": [
    "import pandas as pd\n",
    "import numpy as np\n",
    "import csv\n",
    "df=pd.read_csv('2000hz5.1v有缺陷1.csv',sep=\"\\t\",skiprows=[0,1,2,3,4,5,6,7,8,9,10,11,12,13,14,15,16,17,18,19,20],usecols=[\"Untitled\", \"Untitled 1\", \"Untitled 2\"])\n",
    "#df2 = [df[\"Untitled\"],df[\"Untitled 1\"],df[\"Untitled 4\"]/1000]\n",
    "df1 = df[\"Untitled 2\"]/2000\n",
    "df2 = df[\"Untitled\"]\n",
    "df3 = df[\"Untitled 1\"]\n",
    "#print(df1)\n",
    "all = zip(df2,df3,df1)\n",
    "print(all)\n",
    "first = []\n",
    "for i in all:\n",
    "    first.append(i)\n",
    "niu= pd.DataFrame(first)\n",
    "print(niu)\n",
    "niu.to_csv('除上2000hz5.1v有缺陷1.csv',index=False)"
   ]
  },
  {
   "cell_type": "code",
   "execution_count": null,
   "id": "ba34c917",
   "metadata": {},
   "outputs": [],
   "source": []
  }
 ],
 "metadata": {
  "kernelspec": {
   "display_name": "Python 3",
   "language": "python",
   "name": "python3"
  },
  "language_info": {
   "codemirror_mode": {
    "name": "ipython",
    "version": 3
   },
   "file_extension": ".py",
   "mimetype": "text/x-python",
   "name": "python",
   "nbconvert_exporter": "python",
   "pygments_lexer": "ipython3",
   "version": "3.8.8"
  }
 },
 "nbformat": 4,
 "nbformat_minor": 5
}
